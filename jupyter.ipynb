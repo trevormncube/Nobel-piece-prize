{
 "cells": [
  {
   "cell_type": "markdown",
   "metadata": {
    "colab_type": "text",
    "id": "3oj2kkJeLgXt"
   },
   "source": [
    "# Nobel prizes"
   ]
  },
  {
   "cell_type": "markdown",
   "metadata": {
    "colab_type": "text",
    "id": "JQ2z3hFyLgXu"
   },
   "source": [
    "## 1. Loading the data\n",
    "<p><img style=\"float: right;margin:5px 20px 5px 1px; max-width:250px\" src=\"https://s3.amazonaws.com/assets.datacamp.com/production/project_441/img/Nobel_Prize.png\"></p>\n",
    "<p>The Nobel Prize is perhaps the world's most well known scientific award. Except for the honor, prestige and substantial prize money the recipient also gets a gold medal showing Alfred Nobel (1833 - 1896) who established the prize. Every year it's given to scientists and scholars in the categories chemistry, literature, physics, physiology or medicine, economics, and peace. The first Nobel Prize was handed out in 1901, and at that time the Prize was very Eurocentric and male-focused, but nowadays it's not biased in any way whatsoever. Surely. Right?</p>\n",
    "<p>Well, we're going to find out! The Nobel Foundation has made a dataset available of all prize winners from the start of the prize, in 1901, to 2016. Let's load it in and take a look.</p>"
   ]
  },
  {
   "cell_type": "code",
   "execution_count": 3,
   "metadata": {
    "colab": {},
    "colab_type": "code",
    "id": "6n_NXUb6LgXv"
   },
   "outputs": [
    {
     "name": "stdout",
     "output_type": "stream",
     "text": [
      "     year    category                                           prize  \\\n",
      "0    1901   Chemistry               The Nobel Prize in Chemistry 1901   \n",
      "1    1901  Literature              The Nobel Prize in Literature 1901   \n",
      "2    1901    Medicine  The Nobel Prize in Physiology or Medicine 1901   \n",
      "3    1901       Peace                      The Nobel Peace Prize 1901   \n",
      "4    1901       Peace                      The Nobel Peace Prize 1901   \n",
      "..    ...         ...                                             ...   \n",
      "906  2016    Medicine  The Nobel Prize in Physiology or Medicine 2016   \n",
      "907  2016       Peace                      The Nobel Peace Prize 2016   \n",
      "908  2016     Physics                 The Nobel Prize in Physics 2016   \n",
      "909  2016     Physics                 The Nobel Prize in Physics 2016   \n",
      "910  2016     Physics                 The Nobel Prize in Physics 2016   \n",
      "\n",
      "                                            motivation prize_share  \\\n",
      "0    \"in recognition of the extraordinary services ...         1/1   \n",
      "1    \"in special recognition of his poetic composit...         1/1   \n",
      "2    \"for his work on serum therapy, especially its...         1/1   \n",
      "3                                                  NaN         1/2   \n",
      "4                                                  NaN         1/2   \n",
      "..                                                 ...         ...   \n",
      "906  \"for his discoveries of mechanisms for autophagy\"         1/1   \n",
      "907  \"for his resolute efforts to bring the country...         1/1   \n",
      "908  \"for theoretical discoveries of topological ph...         1/2   \n",
      "909  \"for theoretical discoveries of topological ph...         1/4   \n",
      "910  \"for theoretical discoveries of topological ph...         1/4   \n",
      "\n",
      "     laureate_id laureate_type                     full_name  birth_date  \\\n",
      "0            160    Individual  Jacobus Henricus van 't Hoff  1852-08-30   \n",
      "1            569    Individual               Sully Prudhomme  1839-03-16   \n",
      "2            293    Individual        Emil Adolf von Behring  1854-03-15   \n",
      "3            462    Individual             Jean Henry Dunant  1828-05-08   \n",
      "4            463    Individual                Frédéric Passy  1822-05-20   \n",
      "..           ...           ...                           ...         ...   \n",
      "906          927    Individual              Yoshinori Ohsumi  1945-02-09   \n",
      "907          934    Individual            Juan Manuel Santos  1951-08-10   \n",
      "908          928    Individual             David J. Thouless  1934-09-21   \n",
      "909          929    Individual          F. Duncan M. Haldane  1951-09-14   \n",
      "910          930    Individual         J. Michael Kosterlitz  1943-06-22   \n",
      "\n",
      "            birth_city     birth_country   sex              organization_name  \\\n",
      "0            Rotterdam       Netherlands  Male              Berlin University   \n",
      "1                Paris            France  Male                            NaN   \n",
      "2    Hansdorf (Lawice)  Prussia (Poland)  Male             Marburg University   \n",
      "3               Geneva       Switzerland  Male                            NaN   \n",
      "4                Paris            France  Male                            NaN   \n",
      "..                 ...               ...   ...                            ...   \n",
      "906            Fukuoka             Japan  Male  Tokyo Institute of Technology   \n",
      "907             Bogotá          Colombia  Male                            NaN   \n",
      "908           Bearsden    United Kingdom  Male       University of Washington   \n",
      "909             London    United Kingdom  Male           Princeton University   \n",
      "910           Aberdeen    United Kingdom  Male               Brown University   \n",
      "\n",
      "    organization_city      organization_country  death_date death_city  \\\n",
      "0              Berlin                   Germany  1911-03-01     Berlin   \n",
      "1                 NaN                       NaN  1907-09-07   Châtenay   \n",
      "2             Marburg                   Germany  1917-03-31    Marburg   \n",
      "3                 NaN                       NaN  1910-10-30     Heiden   \n",
      "4                 NaN                       NaN  1912-06-12      Paris   \n",
      "..                ...                       ...         ...        ...   \n",
      "906             Tokyo                     Japan         NaN        NaN   \n",
      "907               NaN                       NaN         NaN        NaN   \n",
      "908       Seattle, WA  United States of America         NaN        NaN   \n",
      "909     Princeton, NJ  United States of America         NaN        NaN   \n",
      "910    Providence, RI  United States of America         NaN        NaN   \n",
      "\n",
      "    death_country  \n",
      "0         Germany  \n",
      "1          France  \n",
      "2         Germany  \n",
      "3     Switzerland  \n",
      "4          France  \n",
      "..            ...  \n",
      "906           NaN  \n",
      "907           NaN  \n",
      "908           NaN  \n",
      "909           NaN  \n",
      "910           NaN  \n",
      "\n",
      "[911 rows x 18 columns]\n"
     ]
    }
   ],
   "source": [
    "# Loading in required libraries: you will need pandas, seaborn and numpy\n",
    "\n",
    "import pandas as pd\n",
    "import seaborn as sns\n",
    "import numpy as np\n",
    "\n",
    "# ... YOUR CODE FOR TASK 1 ...\n",
    "\n",
    "# Reading in the Nobel Prize data\n",
    "nobel = pd.read_csv(\"nobel.csv\")\n",
    "\n",
    "# Explore the data - are there missing values? How many entries do we have?\n",
    "\n",
    "# yes there is missing information\n",
    "# We have 910 entries\n",
    "\n",
    "print(nobel)\n",
    "# ... YOUR CODE FOR TASK 1 ...\n"
   ]
  },
  {
   "cell_type": "markdown",
   "metadata": {
    "colab_type": "text",
    "id": "8iWouA3lLgXy"
   },
   "source": [
    "## 2. So, who gets the Nobel Prize?\n",
    "<p>Just looking at the first couple of prize winners, or Nobel laureates as they are also called, we already see a celebrity: Wilhelm Conrad Röntgen, the guy who discovered X-rays. And actually, we see that all of the winners in 1901 were guys that came from Europe. But that was back in 1901, looking at all winners in the dataset, from 1901 to 2016, which sex and which country is the most commonly represented? </p>\n",
    "<p>(For <em>country</em>, we will use the <code>birth_country</code> of the winner, as the <code>organization_country</code> is <code>NaN</code> for all shared Nobel Prizes.)</p>"
   ]
  },
  {
   "cell_type": "code",
   "execution_count": 11,
   "metadata": {
    "colab": {},
    "colab_type": "code",
    "id": "mAPuUU4OLgXz"
   },
   "outputs": [
    {
     "data": {
      "text/plain": [
       "49"
      ]
     },
     "execution_count": 11,
     "metadata": {},
     "output_type": "execute_result"
    }
   ],
   "source": [
    "# Display the number of (possibly shared) Nobel Prizes handed\n",
    "# out between 1901 and 2016\n",
    "# ... YOUR CODE FOR TASK 2 ...\n",
    "np.sum(nobel[\"prize_share\"]==('1/2' or '1/3' or '1/4'))\n",
    "# Display the number of prizes won by male and female recipients.\n",
    "# ... YOUR CODE FOR TASK 2 ...\n",
    "np.sum(nobel[\"sex\"]== 'Female')\n",
    "\n",
    "# Display the number of prizes won by the top 10 nationalities.\n",
    "\n",
    "# ... YOUR CODE FOR TASK 2 ..."
   ]
  },
  {
   "cell_type": "markdown",
   "metadata": {
    "colab_type": "text",
    "id": "HTA6zz6ILgX1"
   },
   "source": [
    "Which countries win most often?"
   ]
  },
  {
   "cell_type": "markdown",
   "metadata": {
    "colab_type": "text",
    "id": "plyn3XAXLgX2"
   },
   "source": [
    "## 3. USA dominance\n",
    "<p>Not so surprising perhaps: the most common Nobel laureate between 1901 and 2016 was a man born in the United States of America. But in 1901 all the winners were European. When did the USA start to dominate the Nobel Prize charts?</p>\n",
    "    "
   ]
  },
  {
   "cell_type": "code",
   "execution_count": 15,
   "metadata": {
    "colab": {},
    "colab_type": "code",
    "id": "pyr8QN8ELgX2"
   },
   "outputs": [],
   "source": [
    "# Calculating the proportion of USA born winners per decade\n",
    "nobel['usa_born_winner'] = np.sum(nobel[\"birth_country\"]=='United States of America')/91\n",
    "nobel['decade'] = ...\n",
    "prop_usa_winners = ...\n",
    "\n",
    "# Display the proportions of USA born winners per decade\n",
    "# ... YOUR CODE FOR TASK 3 ..."
   ]
  },
  {
   "cell_type": "markdown",
   "metadata": {
    "colab_type": "text",
    "id": "qJWECeNSLgX8"
   },
   "source": [
    "## 4. USA dominance, visualized\n",
    "<p>A table is OK, but to <em>see</em> when the USA started to dominate the Nobel charts we need a plot!</p>"
   ]
  },
  {
   "cell_type": "code",
   "execution_count": 0,
   "metadata": {
    "colab": {},
    "colab_type": "code",
    "id": "BG1IzfHULgX9"
   },
   "outputs": [],
   "source": [
    "#using seaborn, plot the proportion of US winners by decade"
   ]
  },
  {
   "cell_type": "markdown",
   "metadata": {
    "colab_type": "text",
    "id": "K0yrBrqzLgX_"
   },
   "source": [
    "What can you conclude from the graph?"
   ]
  },
  {
   "cell_type": "markdown",
   "metadata": {
    "colab_type": "text",
    "id": "lNmRYEqLLgYA"
   },
   "source": [
    "## 5. What is the gender of a typical Nobel Prize winner?\n",
    "<p>So the USA became the dominating winner of the Nobel Prize first in the 1930s and had kept the leading position ever since. But one group that was in the lead from the start, and never seems to let go, are <em>men</em>. Maybe it shouldn't come as a shock that there is some imbalance between how many male and female prize winners there are, but how significant is this imbalance? And is it better or worse within specific prize categories like physics, medicine, literature, etc.?</p>"
   ]
  },
  {
   "cell_type": "code",
   "execution_count": 0,
   "metadata": {
    "colab": {},
    "colab_type": "code",
    "id": "Os3hu3BGLgYB"
   },
   "outputs": [],
   "source": [
    "# Calculating the proportion of female laureates per decade\n",
    "nobel['female_winner'] = ...\n",
    "prop_female_winners = ...\n",
    "\n",
    "# Plot proportion of female winners by decade, grouped by prize category (physics, medicine, etc)\n",
    "# ... YOUR CODE FOR TASK 5 ..."
   ]
  },
  {
   "cell_type": "markdown",
   "metadata": {
    "colab_type": "text",
    "id": "3n8uKBeQLgYE"
   },
   "source": [
    "\n",
    "\n",
    "```\n",
    "# This is formatted as code\n",
    "```\n",
    "\n",
    " Interpret your plot here"
   ]
  },
  {
   "cell_type": "markdown",
   "metadata": {
    "colab_type": "text",
    "id": "bECCDRHOLgYF"
   },
   "source": [
    "## 6. The first woman to win the Nobel Prize\n",
    "<p>The plot above is a bit messy as the lines are overplotting. But it does show some interesting trends and patterns. Overall the imbalance is pretty large with physics, economics, and chemistry having the largest imbalance. Medicine has a somewhat positive trend, and since the 1990s the literature prize is also now more balanced. The big outlier is the peace prize during the 2010s, but keep in mind that this just covers the years 2010 to 2016.</p>\n",
    "<p>Given this imbalance, who was the first woman to receive a Nobel Prize? And in what category?</p>\n"
   ]
  },
  {
   "cell_type": "code",
   "execution_count": 0,
   "metadata": {
    "colab": {},
    "colab_type": "code",
    "id": "fr17tW7kLgYG"
   },
   "outputs": [],
   "source": [
    "# Picking out the first woman to win a Nobel Prize\n",
    "# ... YOUR CODE FOR TASK 6 ..."
   ]
  },
  {
   "cell_type": "markdown",
   "metadata": {
    "colab_type": "text",
    "id": "HnHekZkQLgYJ"
   },
   "source": [
    "## 7. Repeat laureates\n",
    "<p>For most scientists/writers/activists a Nobel Prize would be the crowning achievement of a long career. But for some people, one is just not enough, and few have gotten it more than once. Who are these lucky few? (Having won no Nobel Prize myself, I'll assume it's just about luck.)</p>"
   ]
  },
  {
   "cell_type": "code",
   "execution_count": 0,
   "metadata": {
    "colab": {},
    "colab_type": "code",
    "id": "0unfnOb7LgYM"
   },
   "outputs": [],
   "source": [
    "# Selecting the laureates that have received 2 or more prizes.\n",
    "# ... YOUR CODE FOR TASK 7 ..."
   ]
  },
  {
   "cell_type": "markdown",
   "metadata": {
    "colab_type": "text",
    "id": "Q_o5qBesLgYT"
   },
   "source": [
    "\n",
    "\n",
    "\n",
    "How many people have received 2 or more prizes?"
   ]
  },
  {
   "cell_type": "markdown",
   "metadata": {
    "colab_type": "text",
    "id": "LQ3gth_3LgYT"
   },
   "source": [
    "## 8. How old are you when you get the prize?\n",
    "<p>The list of repeat winners contains some illustrious names! We again meet Marie Curie, who got the prize in physics for discovering radiation and in chemistry for isolating radium and polonium. John Bardeen got it twice in physics for transistors and superconductivity, Frederick Sanger got it twice in chemistry, and Linus Carl Pauling got it first in chemistry and later in peace for his work in promoting nuclear disarmament. We also learn that organizations also get the prize as both the Red Cross and the UNHCR have gotten it twice.</p>\n",
    "<p>But how old are you generally when you get the prize?</p>"
   ]
  },
  {
   "cell_type": "code",
   "execution_count": 0,
   "metadata": {
    "colab": {},
    "colab_type": "code",
    "id": "kahpyBNzLgYU"
   },
   "outputs": [],
   "source": [
    "# Converting birth_date from String to datetime\n",
    "nobel['birth_date'] = ...\n",
    "\n",
    "# Calculating the age of Nobel Prize winners\n",
    "nobel['age'] = ...\n",
    "\n",
    "# What is the mean age of winners and it's standard devation? What is the median age?"
   ]
  },
  {
   "cell_type": "markdown",
   "metadata": {
    "colab_type": "text",
    "id": "JRO7eu1jLgYX"
   },
   "source": [
    "## 9. Age differences between prize categories\n"
   ]
  },
  {
   "cell_type": "code",
   "execution_count": 0,
   "metadata": {
    "colab": {},
    "colab_type": "code",
    "id": "X7X2waCALgYY"
   },
   "outputs": [],
   "source": [
    "#Plot the age of nobel candidates by decade\n",
    "#YOUR CODE FOR TASK 9 ...\n",
    "\n",
    "# Plot the age of nobel candidates by decade and prize category"
   ]
  },
  {
   "cell_type": "markdown",
   "metadata": {
    "colab_type": "text",
    "id": "CmDtQ5msLgYd"
   },
   "source": [
    "What can you conclude about the age at which people win different types of Nobel Prizes?"
   ]
  },
  {
   "cell_type": "markdown",
   "metadata": {
    "colab_type": "text",
    "id": "JT1wmBWRLgYf"
   },
   "source": [
    "## 10. Oldest and youngest winners\n",
    "<p>In the peace category there is a winner around 2010 that seems exceptionally young. This begs the questions, who are the oldest and youngest people ever to have won a Nobel Prize?</p>"
   ]
  },
  {
   "cell_type": "markdown",
   "metadata": {
    "colab_type": "text",
    "id": "6BStEi3JLgYg"
   },
   "source": [
    "## Congratulations! You've reached the end of the challenge!"
   ]
  }
 ],
 "metadata": {
  "colab": {
   "name": "nobelprizewinners.ipynb",
   "provenance": [],
   "version": "0.3.2"
  },
  "kernelspec": {
   "display_name": "Python 3",
   "language": "python",
   "name": "python3"
  },
  "language_info": {
   "codemirror_mode": {
    "name": "ipython",
    "version": 3
   },
   "file_extension": ".py",
   "mimetype": "text/x-python",
   "name": "python",
   "nbconvert_exporter": "python",
   "pygments_lexer": "ipython3",
   "version": "3.8.3"
  }
 },
 "nbformat": 4,
 "nbformat_minor": 1
}
